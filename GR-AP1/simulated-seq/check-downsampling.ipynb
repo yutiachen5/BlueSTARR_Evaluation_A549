{
 "cells": [
  {
   "cell_type": "code",
   "execution_count": 2,
   "id": "19247bf2-bd6f-47fe-baf5-25462f27f6b1",
   "metadata": {},
   "outputs": [],
   "source": [
    "# check distribution of training set before and after biased downsampling\n",
    "import pandas as pd\n",
    "import numpy as npr\n",
    "import seaborn as sns\n",
    "import matplotlib.pyplot as plt"
   ]
  },
  {
   "cell_type": "code",
   "execution_count": 14,
   "id": "47338e43-5aa5-440f-8d0f-a697d88ff187",
   "metadata": {},
   "outputs": [
    {
     "name": "stdout",
     "output_type": "stream",
     "text": [
      "percentage of positive samples in training set:\n",
      "before downsampling: 1.00%\n",
      "after unbiased downsampling: 1.00%\n",
      "after biased downsampling by acceptance function lognormal^10, in sample 1: 3.5652%\n",
      "after biased downsampling by acceptance function lognormal^10, in sample 2: 3.5661%\n",
      "after biased downsampling by acceptance function lognormal^10, in sample 3: 3.5655%\n",
      "after biased downsampling by acceptance function lognormal^10, in sample 4: 3.5661%\n",
      "after biased downsampling by acceptance function lognormal^10, in sample 5: 3.5673%\n",
      "\n",
      "models were trained for 40 epochs, no earlystop\n"
     ]
    }
   ],
   "source": [
    "print('percentage of positive samples in training set:')\n",
    "all_train = pd.read_csv('/datacommons/igvf-pm/A549/GR-AP1/simulated-seq/data/0.01-positive/all-train-0.01-counts.txt.gz',\n",
    "                    compression='gzip', header=None, sep='\\t', skiprows=1)\n",
    "all_train.columns = ['DNA', 'RNA']\n",
    "frac = all_train['RNA'].apply(lambda x: float(x).is_integer()).sum()/len(all_train)\n",
    "print(f\"before downsampling: {frac:.2%}\")\n",
    "\n",
    "unbiased_train = pd.read_csv('/datacommons/igvf-pm/A549/GR-AP1/simulated-seq/data/0.01-positive/train-unbiased-counts.txt.gz',\n",
    "                    compression='gzip', header=None, sep='\\t', skiprows=1)\n",
    "unbiased_train.columns = ['DNA', 'RNA']\n",
    "frac = unbiased_train['RNA'].apply(lambda x: float(x).is_integer()).sum()/len(unbiased_train) \n",
    "print(f\"after unbiased downsampling: {frac:.2%}\")\n",
    "\n",
    "for i in range(1,6):\n",
    "    biased_train = pd.read_csv('/datacommons/igvf-pm/A549/GR-AP1/simulated-seq/data/0.01-positive/train-lognormal10-'+str(i)+'-counts.txt.gz',\n",
    "                    compression='gzip', header=None, sep='\\t', skiprows=1)\n",
    "    biased_train.columns = ['DNA', 'RNA']\n",
    "    frac = biased_train['RNA'].apply(lambda x: float(x).is_integer()).sum()/len(biased_train)\n",
    "    print(f\"after biased downsampling by acceptance function lognormal^10, in sample {i}: {frac:.4%}\")\n",
    "print('')\n",
    "print('models were trained for 40 epochs, no earlystop')"
   ]
  },
  {
   "cell_type": "code",
   "execution_count": 15,
   "id": "fce7fd01-a082-4117-8b3d-016c53567d71",
   "metadata": {},
   "outputs": [
    {
     "name": "stdout",
     "output_type": "stream",
     "text": [
      "percentage of positive samples in training set:\n",
      "before downsampling: 0.30%\n",
      "after unbiased downsampling: 0.30%\n",
      "after biased downsampling by acceptance function lognormal^10, in sample 1: 1.0734%\n",
      "after biased downsampling by acceptance function lognormal^10, in sample 2: 1.0730%\n",
      "after biased downsampling by acceptance function lognormal^10, in sample 3: 1.0728%\n",
      "after biased downsampling by acceptance function lognormal^10, in sample 4: 1.0725%\n",
      "after biased downsampling by acceptance function lognormal^10, in sample 5: 1.0726%\n",
      "\n",
      "models were trained for 30 epochs, no earlystop\n"
     ]
    }
   ],
   "source": [
    "print('percentage of positive samples in training set:')\n",
    "\n",
    "all_train = pd.read_csv('/datacommons/igvf-pm/A549/GR-AP1/simulated-seq/data/0.003-positive/all-train-0.003-counts.txt.gz',\n",
    "                    compression='gzip', header=None, sep='\\t', skiprows=1)\n",
    "all_train.columns = ['DNA', 'RNA']\n",
    "frac = all_train['RNA'].apply(lambda x: float(x).is_integer()).sum()/len(all_train)\n",
    "print(f\"before downsampling: {frac:.2%}\")\n",
    "\n",
    "unbiased_train = pd.read_csv('/datacommons/igvf-pm/A549/GR-AP1/simulated-seq/data/0.003-positive/train-unbiased-counts.txt.gz',\n",
    "                    compression='gzip', header=None, sep='\\t', skiprows=1)\n",
    "unbiased_train.columns = ['DNA', 'RNA']\n",
    "frac = unbiased_train['RNA'].apply(lambda x: float(x).is_integer()).sum()/len(unbiased_train) \n",
    "print(f\"after unbiased downsampling: {frac:.2%}\")\n",
    "\n",
    "for i in range(1,6):\n",
    "    biased_train = pd.read_csv('/datacommons/igvf-pm/A549/GR-AP1/simulated-seq/data/0.003-positive/train-lognormal10-'+str(i)+'-counts.txt.gz',\n",
    "                    compression='gzip', header=None, sep='\\t', skiprows=1)\n",
    "    biased_train.columns = ['DNA', 'RNA']\n",
    "    frac = biased_train['RNA'].apply(lambda x: float(x).is_integer()).sum()/len(biased_train)\n",
    "    print(f\"after biased downsampling by acceptance function lognormal^10, in sample {i}: {frac:.4%}\")\n",
    "print('')\n",
    "print('models were trained for 30 epochs, no earlystop')"
   ]
  },
  {
   "cell_type": "code",
   "execution_count": 14,
   "id": "ffa266c7-2b6b-47dc-a90c-69f912180f8d",
   "metadata": {},
   "outputs": [
    {
     "data": {
      "text/plain": [
       "18247"
      ]
     },
     "execution_count": 14,
     "metadata": {},
     "output_type": "execute_result"
    }
   ],
   "source": [
    "biased_train['RNA'].apply(lambda x: float(x).is_integer()).sum()"
   ]
  },
  {
   "cell_type": "code",
   "execution_count": null,
   "id": "0090df17-fcba-4458-90a6-c1ef65819b48",
   "metadata": {},
   "outputs": [],
   "source": []
  },
  {
   "cell_type": "code",
   "execution_count": null,
   "id": "410d7a20-20aa-4791-a7cc-aed6d3ca1f17",
   "metadata": {},
   "outputs": [],
   "source": []
  },
  {
   "cell_type": "code",
   "execution_count": 16,
   "id": "0018fbf6-69bc-4b28-91ae-fc234f4478b5",
   "metadata": {},
   "outputs": [],
   "source": [
    "def loadFasta(fasta_path, as_dict=False,uppercase=False, stop_at=None,\n",
    "              revcomp=False):\n",
    "    fastas = []\n",
    "    seq = None\n",
    "    header = None\n",
    "    for r in (gzip.open(fasta_path) if fasta_path.endswith(\".gz\") else open(fasta_path)):\n",
    "        if type(r) is bytes: r = r.decode(\"utf-8\")\n",
    "        r = r.strip()\n",
    "        if r.startswith(\">\"):\n",
    "            if seq != None and header != None:\n",
    "                fastas.append([header, seq])\n",
    "                if stop_at != None and len(fastas) >= stop_at:\n",
    "                    break\n",
    "            seq = \"\"\n",
    "            header = r[1:]\n",
    "        else:\n",
    "            if seq != None:\n",
    "                seq += r.upper() if uppercase else r\n",
    "            else:\n",
    "                seq = r.upper() if uppercase else r\n",
    "    if stop_at != None and len(fastas) < stop_at:\n",
    "        fastas.append([header, seq])\n",
    "    elif stop_at == None:\n",
    "        fastas.append([header, seq])\n",
    "    if as_dict:\n",
    "        return {h: s for h, s in fastas}\n",
    "    if(revcomp):\n",
    "        for rec in fastas:\n",
    "            rc=generate_complementary_sequence(rec[1])\n",
    "            rec[1]=rec[1]+\"NNNNNNNNNNNNNNNNNNNN\"+rc\n",
    "    return pd.DataFrame({'location': [e[0].split('=')[-1] for e in fastas],\n",
    "                         'sequence': [e[1] for e in fastas]})"
   ]
  },
  {
   "cell_type": "code",
   "execution_count": 21,
   "id": "9a7583f4-6b1a-4b6b-b148-3df271096a85",
   "metadata": {},
   "outputs": [
    {
     "data": {
      "text/plain": [
       "1700000"
      ]
     },
     "execution_count": 21,
     "metadata": {},
     "output_type": "execute_result"
    }
   ],
   "source": [
    "import gzip\n",
    "fasta = loadFasta('/datacommons/igvf-pm/A549/GR-AP1/simulated-seq/data/0.003-positive/train-lognormal10-1.fasta.gz')\n",
    "fasta['location'].nunique()"
   ]
  },
  {
   "cell_type": "code",
   "execution_count": null,
   "id": "73413ee5-b70c-4ca3-80c3-6f953152e0a0",
   "metadata": {},
   "outputs": [],
   "source": []
  }
 ],
 "metadata": {
  "kernelspec": {
   "display_name": "Python 3 (ipykernel)",
   "language": "python",
   "name": "python3"
  },
  "language_info": {
   "codemirror_mode": {
    "name": "ipython",
    "version": 3
   },
   "file_extension": ".py",
   "mimetype": "text/x-python",
   "name": "python",
   "nbconvert_exporter": "python",
   "pygments_lexer": "ipython3",
   "version": "3.11.10"
  }
 },
 "nbformat": 4,
 "nbformat_minor": 5
}
