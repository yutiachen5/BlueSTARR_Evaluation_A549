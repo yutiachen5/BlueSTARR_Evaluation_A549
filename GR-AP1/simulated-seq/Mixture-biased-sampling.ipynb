{
 "cells": [
  {
   "cell_type": "markdown",
   "id": "763a2ae2",
   "metadata": {},
   "source": [
    "# Biased upsampling of TF-distance dependent activations from mixtures\n",
    "\n",
    "In this simulation, we define a mixture as a fraction of activations drawn from a TF distance-based activation function (which we call \"_positives_\"), and a fraction of activations drawn from a distribution resembling \"no activation\" (which we call \"_negatives_\"). For the latter we use a lognormal distribution with $\\sigma=1$ and $\\mu=0$ (i.e., parameters `s`=$\\sigma$ and `scale`=$e^\\mu$ for `scipy.stats.lognormal`).\n",
    "\n",
    "As we have found, when the fraction of positives in the mixture drops towards 1-2%, the model training fails to recover the distance-dependent activation function of the positives.\n",
    "\n",
    "Here we explore whether and to what extent probabilistic biased sampling can increase the fraction of positives. The rationale is that the fraction of positives in experimental data is likely small, and possibly in the range of 1-2%, raising the question whether biased sampling can make increase their frequency to a level that we know suffices for the model training to recover the pattern of their activation function."
   ]
  },
  {
   "cell_type": "code",
   "execution_count": 1,
   "id": "480e09e0",
   "metadata": {},
   "outputs": [],
   "source": [
    "import numpy as np\n",
    "import matplotlib.pyplot as plt\n",
    "from scipy.stats import lognorm"
   ]
  },
  {
   "cell_type": "code",
   "execution_count": 2,
   "id": "938b8295-c738-4d6b-8870-52f2d0a6cca9",
   "metadata": {},
   "outputs": [],
   "source": [
    "min_dist = 10"
   ]
  },
  {
   "cell_type": "markdown",
   "id": "67b9da88",
   "metadata": {},
   "source": [
    "## TF distance-dependent activation function"
   ]
  },
  {
   "cell_type": "code",
   "execution_count": 3,
   "id": "11b98f49-1a7c-4aeb-b3cd-cbd9ab9bf6ac",
   "metadata": {},
   "outputs": [],
   "source": [
    "def activation_score(dist, peak_dist=200, score_ceiling=200, offset=0, log_scale=False):\n",
    "    score = np.fmin(np.abs(peak_dist - dist), score_ceiling)\n",
    "    if log_scale:\n",
    "        score = np.log2(np.fmax(score, 1))\n",
    "        if offset != 0:\n",
    "            offset = np.log2(np.abs(offset)) * np.sign(offset)\n",
    "    return score + offset"
   ]
  },
  {
   "cell_type": "code",
   "execution_count": 4,
   "id": "532a9f8f-a084-42d7-ae2c-e736d1c47fa0",
   "metadata": {},
   "outputs": [],
   "source": [
    "def exp_fit_1(dist):\n",
    "    a, b, c = 3.83942702e-03, -9.39553441e-01, 4.61986242e+01\n",
    "    return (a * dist**2 + b * dist + c)"
   ]
  },
  {
   "cell_type": "code",
   "execution_count": 5,
   "id": "7cfe9f58-9dc4-4e49-9114-8623f25ef485",
   "metadata": {},
   "outputs": [],
   "source": [
    "def exp_fit_2(dist):\n",
    "    a1, b1, c1 = 3.39285714e-03, -4.32500000e-01, 2.74669643e+01\n",
    "    a2, b2, c2 = 1.44791666e-02, -5.25383925e+00, 4.75250250e+02\n",
    "    result = np.where(\n",
    "        dist < 123,\n",
    "        a1 * dist**2 + b1 * dist + c1,\n",
    "        a2 * dist**2 + b2 * dist + c2\n",
    "    )\n",
    "    return result"
   ]
  },
  {
   "cell_type": "code",
   "execution_count": 6,
   "id": "6117cbf5-92cf-4c0e-9fbf-d85f30e2de04",
   "metadata": {},
   "outputs": [],
   "source": [
    "def hill_activation(dist: np.ndarray,\n",
    "                    y_max: float = 10,\n",
    "                    y_min: float = 1, \n",
    "                    x_min: float = 10,\n",
    "                    x_max: float = 300):\n",
    "\n",
    "    if not (y_min < y_max):\n",
    "        raise ValueError(f\"y_min must be less than {y_max}. Got {y_min}\")\n",
    "        \n",
    "    k = (y_max - y_min)/(x_min - x_max)\n",
    "    b = y_max - x_min * k\n",
    "\n",
    "    return dist * k + b"
   ]
  },
  {
   "cell_type": "code",
   "execution_count": 7,
   "id": "a5b1c35a-0e5f-435d-8a2a-0398b74199d3",
   "metadata": {},
   "outputs": [],
   "source": [
    "def cliff_activation(dist: np.ndarray,\n",
    "                     y_max: float = 10,\n",
    "                     y_min: float = 1,\n",
    "                     x_intersection: float = 150,\n",
    "                     y_intersection: float = 1.0,\n",
    "                     x_min: float = 10,\n",
    "                     x_max: float = 300):\n",
    "\n",
    "    if not (x_min < x_intersection < x_max):\n",
    "        raise ValueError(f\"x_intersection must be in ({x_offset}, 300). Got {x_intersection}\")\n",
    "    if not (y_min < y_intersection < y_max):\n",
    "        raise ValueError(f\"y_intersection must be in ({y_min}, {y_max}). Got {y_intersection}\")\n",
    "        \n",
    "    x1, y1 = x_min, y_max\n",
    "    x2, y2 = x_max, y_min\n",
    "\n",
    "    k1 = (y_intersection - y1) / (x_intersection - x1)  \n",
    "    k2 = (y2 - y_intersection) / (x2 - x_intersection)\n",
    "\n",
    "    y = np.zeros_like(dist)\n",
    "\n",
    "    left_mask = dist <= x_intersection\n",
    "    right_mask = dist > x_intersection\n",
    "\n",
    "    y[left_mask] = y1 + k1 * (dist[left_mask] - x1)\n",
    "    y[right_mask] = y_intersection + k2 * (dist[right_mask] - x_intersection)\n",
    "\n",
    "    k1 = (y_max - y_intersection)/(x_min - x_intersection)\n",
    "    b1 = y_max - x_min * k1\n",
    "    k2 = (y_intersection - y_min)/(x_intersection - x_max)\n",
    "    b2 = y_intersection - x_intersection * k2\n",
    "\n",
    "    part1 = k1 * dist + b1\n",
    "    part2 = k2 * dist + b2\n",
    "\n",
    "    return np.where(dist < x_intersection, part1, part2)"
   ]
  },
  {
   "cell_type": "code",
   "execution_count": 8,
   "id": "b4e014d7-6096-42a9-a021-6624c14a1850",
   "metadata": {},
   "outputs": [],
   "source": [
    "def mound_activation(dists: np.ndarray,\n",
    "                     d0: float,\n",
    "                     k: float,\n",
    "                     decay_rate: float, \n",
    "                     height: float,\n",
    "                     x_offset: float=10) -> np.ndarray:\n",
    "    \"\"\"\n",
    "    Generate a mound-shaped activation signal with a rapid rise to a peak \n",
    "    followed by a gentle decay.\n",
    "\n",
    "    Parameters\n",
    "    ----------\n",
    "    dists : np.ndarray\n",
    "        Array of distances (in basepairs) over which the activation is computed.\n",
    "    d0 : float\n",
    "        Distance at which the rapid rise reaches its midpoint.\n",
    "    k : float\n",
    "        Steepness of the sigmoid function controlling the rapid rise.\n",
    "    decay_rate : float\n",
    "        Exponential decay rate controlling the gentle decline after the peak.\n",
    "    height : float\n",
    "        Maximum height of the activation signal.\n",
    "    x_offset : float, optional\n",
    "        Offset applied to the distances, by default 10. Normally this is the minimum distance.\n",
    "\n",
    "    Returns\n",
    "    -------\n",
    "    np.ndarray\n",
    "        Array of activation values corresponding to the input distances.\n",
    "    \"\"\"\n",
    "    sigmoid = 1 / (1 + np.exp(-k * (dists - d0)))\n",
    "    decay = np.exp(-decay_rate * (dists-x_offset))\n",
    "    return height * sigmoid * decay"
   ]
  },
  {
   "cell_type": "code",
   "execution_count": 9,
   "id": "114df2bc-bc1a-4a70-bbcc-13367d649855",
   "metadata": {},
   "outputs": [],
   "source": [
    "def bowl_activation(dists: np.ndarray,\n",
    "                    y_max0: float,\n",
    "                    y_max1: float,\n",
    "                    bowl_depth: float,\n",
    "                    bowl_width: int=None,\n",
    "                    x_offset: float=10) -> np.ndarray:\n",
    "    \"\"\"\n",
    "    Generate a bowl-shaped activation signal with high values at short and long \n",
    "    distances and a parabolic decay and rise in between.\n",
    "\n",
    "    Parameters\n",
    "    ----------\n",
    "    dists : np.ndarray\n",
    "        Array of distances (in basepairs) over which the activation is computed.\n",
    "    y_max0 : float\n",
    "        Maximum activation value at the start of the distance range.\n",
    "    y_max1 : float\n",
    "        Maximum activation value at the end of the distance range.\n",
    "    bowl_depth : float\n",
    "        Depth of the bowl, representing the minimum activation value at the center.\n",
    "    bowl_width : int, optional\n",
    "        Width of the bowl, representing the distance range over which the parabolic \n",
    "        decay occurs. If None, it defaults to the range of `dists` minus `x_offset`.\n",
    "    x_offset : float, optional\n",
    "        Offset applied to the distances, by default 10. Normally, this is the\n",
    "        minimum distance in the input array.\n",
    "\n",
    "    Returns\n",
    "    -------\n",
    "    np.ndarray\n",
    "        Array of activation values corresponding to the input distances.\n",
    "    \"\"\"\n",
    "    if bowl_width is None:\n",
    "        bowl_width = dists[-1] - x_offset\n",
    "    \n",
    "    xm = (2 * x_offset + bowl_width) / 2\n",
    "    ym = min(y_max0, y_max1) - abs(bowl_depth)  # The minimum y at the center (bowl bottom)\n",
    "\n",
    "    # Fit a parabola: y = a(x - xm)^2 + ym\n",
    "    # Make sure it passes through (x0, y0) and (x1, y1)\n",
    "    a = (y_max0 - ym) / ((x_offset - xm) ** 2)\n",
    "\n",
    "    return a * (dists - xm) ** 2 + ym"
   ]
  },
  {
   "cell_type": "code",
   "execution_count": 10,
   "id": "0b66783b-5f62-49ab-880b-914dc93c3a66",
   "metadata": {},
   "outputs": [],
   "source": [
    "def periodicity_activation(dists: np.ndarray,\n",
    "                           period: float,\n",
    "                           amplitude: float,\n",
    "                           ampl_decay_rate,\n",
    "                           y_offset: float,\n",
    "                           offset_decay_rate: float,\n",
    "                           x_offset: int=10) -> np.ndarray:\n",
    "    \"\"\"\n",
    "    Generate a periodic activation signal with an amplitude and offset that decay \n",
    "    exponentially with distance.\n",
    "\n",
    "    Parameters\n",
    "    ----------\n",
    "    dists : np.ndarray\n",
    "        Array of distances (in basepairs) over which the activation is computed.\n",
    "    period : float\n",
    "        Period (in basepairs) of the sine wave representing the periodicity.\n",
    "    amplitude : float\n",
    "        Initial amplitude of the sine wave.\n",
    "    ampl_decay_rate : float\n",
    "        Exponential decay rate of the amplitude with distance.\n",
    "    y_offset : float\n",
    "        Initial vertical offset of the sine wave.\n",
    "    offset_decay_rate : float\n",
    "        Exponential decay rate of the vertical offset with distance.\n",
    "    x_offset : int, optional\n",
    "        Offset applied to the distances, by default 10. Normally, this is the\n",
    "        distance at which the activation starts to be non-zero.\n",
    "\n",
    "    Returns\n",
    "    -------\n",
    "    np.ndarray\n",
    "        Array of activation values corresponding to the input distances.\n",
    "    \"\"\"\n",
    "    offs_dists = dists - x_offset\n",
    "    envelope = amplitude * np.exp(-ampl_decay_rate * offs_dists)\n",
    "    offset_envelope = y_offset * np.exp(-offset_decay_rate * offs_dists)\n",
    "    freq = 1 / period\n",
    "    # set distances below x_offset to zero\n",
    "    envelope[offs_dists < 0] = 0\n",
    "    offset_envelope[offs_dists < 0] = 0\n",
    "    return envelope * np.sin(2 * np.pi * freq * offs_dists) + offset_envelope"
   ]
  },
  {
   "cell_type": "markdown",
   "id": "3aa5b3d9",
   "metadata": {},
   "source": [
    "## Sampling a mixture of positives and negatives"
   ]
  },
  {
   "cell_type": "markdown",
   "id": "2125df08",
   "metadata": {},
   "source": [
    "We create a function that samples a mixture of positives and negatives, where the fraction of positives is given by `posfrac`. The positives are drawn from the TF distance-dependent activation function, and the negatives are drawn from a lognormal distribution with parameters $\\sigma=1$ and $\\mu=0$.\n",
    "\n",
    "The function returns a 2-dimensional array of shape `(size, 2)`, where `size` is the number of samples. The first column contains the scores (from positives and negatives), and the second column contains the TF distance for positives, and NaN for negatives. This allows tracking the distribution of TF distances before and after biased sampling, and to asses how many positves are retained in the biased sample."
   ]
  },
  {
   "cell_type": "code",
   "execution_count": 11,
   "id": "c31f3f68",
   "metadata": {},
   "outputs": [],
   "source": [
    "def sample_scores(size=100_000, posfrac=0.005,\n",
    "                  min_TFdist=10, TFlen=10, seqlen=300, func='v-shape', **score_func_kwargs):\n",
    "    neg_scores = lognorm.rvs(s=1, scale=1, size=int(size * (1-posfrac)))\n",
    "    dists = np.random.randint(min_TFdist, seqlen-TFlen-min_TFdist, size=int(size * posfrac))\n",
    "    if func == 'v-shape':\n",
    "        pos_scores = np.column_stack((activation_score(dists, offset=-100, **score_func_kwargs), dists))\n",
    "    elif func == 'exp-fit-1':\n",
    "        pos_scores = np.column_stack((exp_fit_1(dists, **score_func_kwargs), dists))\n",
    "    elif func == 'exp-fit-2':\n",
    "        pos_scores = np.column_stack((exp_fit_2(dists, **score_func_kwargs), dists))\n",
    "    elif func == 'mound':\n",
    "        pos_scores = np.column_stack((mound_activation(dists,\n",
    "                                                       d0=40,\n",
    "                                                       k=0.2,\n",
    "                                                       decay_rate=0.002,\n",
    "                                                       height=11,\n",
    "                                                       x_offset=min_dist), dists))\n",
    "    elif func == 'bowl':\n",
    "        pos_scores = np.column_stack((bowl_activation(dists, \n",
    "                                                     y_max0=10,\n",
    "                                                     y_max1=10,\n",
    "                                                     bowl_depth=2,\n",
    "                                                     x_offset=min_dist), dists))\n",
    "    elif func == 'periodicity':\n",
    "        pos_scores = np.column_stack((periodicity_activation(dists,\n",
    "                                                            period=10.4,\n",
    "                                                            amplitude=3,\n",
    "                                                            ampl_decay_rate=0.03,\n",
    "                                                            y_offset=8,\n",
    "                                                            offset_decay_rate=0.04,\n",
    "                                                            x_offset=min_dist), dists))\n",
    "    elif func == 'cliff':\n",
    "        pos_scores = np.column_stack((cliff_activation(dists,\n",
    "                                                y_max=10,\n",
    "                                                y_min=1,\n",
    "                                                x_intersection=25,\n",
    "                                                y_intersection=2.5,\n",
    "                                                x_min=10,\n",
    "                                                x_max=300), dists)) \n",
    "    elif func == 'hill':\n",
    "        pos_scores = np.column_stack((hill_activation(dists,\n",
    "                                                y_max=10,\n",
    "                                                y_min=7,\n",
    "                                                x_min=10,\n",
    "                                                x_max=300), dists)) \n",
    "    else:\n",
    "        raise Exception()\n",
    "    neg_scores = np.column_stack((neg_scores, np.full(neg_scores.shape, np.nan)))\n",
    "    scores = np.concatenate([neg_scores,pos_scores])\n",
    "    np.random.shuffle(scores)\n",
    "    return scores\n"
   ]
  },
  {
   "cell_type": "markdown",
   "id": "1cbe2f08",
   "metadata": {},
   "source": [
    "## Score-dependent acceptance probability functions\n",
    "\n",
    "We compare a few different acceptance probability functions that all depend only on the score of the sample. The acceptance probability is the probability that a sample is accepted during sampling.\n",
    "\n",
    "The implementation of biased downsampling in BlueSTARR uses histogram densities (in essence an empirical PDF). We want to reimplement this and have as comparison an empirical CDF. KDE implementations in Scipy, Scikit-learn, and Statsmodels don't seem to provide a built-in CDFs for KDEs, so are implementing a class that does both, and can interpolate the PDF and CDF or not. (The BlueSTARR implementation does not use interpolation, and is thus a step function.)"
   ]
  },
  {
   "cell_type": "code",
   "execution_count": 12,
   "id": "ecfbcc3a",
   "metadata": {},
   "outputs": [],
   "source": [
    "from scipy.stats import gaussian_kde\n",
    "from scipy.interpolate import PchipInterpolator"
   ]
  },
  {
   "cell_type": "code",
   "execution_count": 13,
   "id": "427f90bd",
   "metadata": {},
   "outputs": [],
   "source": [
    "class HistKDE:\n",
    "    def __init__(self, samples, bins=1000):\n",
    "        (densities, bin_edges) = np.histogram(samples, bins=bins, density=True)\n",
    "        self.bins = bin_edges\n",
    "        self.mids = bin_edges[1:] - np.diff(bin_edges)/2\n",
    "        self.probs = densities * np.diff(bin_edges)\n",
    "        self.cum_probs = np.cumsum(self.probs)\n",
    "        self.interp_pdf = PchipInterpolator(self.mids, self.probs, extrapolate=True)\n",
    "        self.interp_cdf = PchipInterpolator(self.mids, self.cum_probs, extrapolate=True)\n",
    "\n",
    "    def __call__(self, x):\n",
    "        return self.pdf(x)\n",
    "\n",
    "    def pdf(self, x, interpolate=True):\n",
    "        if interpolate:\n",
    "            return self.interp_pdf(x)\n",
    "        else:\n",
    "            bin_indices = np.digitize(x, self.bins[1:], right=False).clip(0, len(self.probs)-1)\n",
    "            return self.probs[bin_indices]\n",
    "\n",
    "    def cdf(self, x, interpolate=True):\n",
    "        if interpolate:\n",
    "            return self.interp_cdf(x)\n",
    "        else:\n",
    "            bin_indices = np.digitize(x, self.bins[1:], right=False).clip(0, len(self.cum_probs)-1)\n",
    "            return self.cum_probs[bin_indices]"
   ]
  },
  {
   "cell_type": "markdown",
   "id": "272a7b3f",
   "metadata": {},
   "source": [
    "Define acceptance probability functions based on empirical PDF and CDF, and on a distribution-based CDF."
   ]
  },
  {
   "cell_type": "code",
   "execution_count": 14,
   "id": "dfa375ff",
   "metadata": {},
   "outputs": [],
   "source": [
    "def scores_and_unif(scores: np.ndarray):\n",
    "    if scores.ndim > 1:\n",
    "        scores = scores[:,0]\n",
    "    (min, max) = (int(scores.min()), int(scores.max()))\n",
    "    unif = (1 / (max - min + 1))\n",
    "    return scores, unif\n",
    "\n",
    "# def accept_hist_pdf(scores, kde=None, hist_bins=1000, interpolate=True):\n",
    "#     scores, _ = scores_and_unif(scores)\n",
    "#     if not kde:\n",
    "#         kde = HistKDE(scores, bins=hist_bins)\n",
    "#     acceptance_probs = kde.pdf(scores, interpolate=interpolate)\n",
    "#     biased_probs = acceptance_probs**2\n",
    "#     biased_probs /= biased_probs.max()\n",
    "#     return 1 - biased_probs\n",
    "\n",
    "def accept_hist_pdf(scores, kde=None, hist_bins=1000, interpolate=True):\n",
    "    scores, _ = scores_and_unif(scores)\n",
    "    if not kde:\n",
    "        kde = HistKDE(scores, bins=hist_bins)\n",
    "    return 1 - kde.pdf(scores, interpolate=interpolate)\n",
    "\n",
    "def accept_hist_cdf(scores, kde=None, hist_bins=1000, interpolate=True):\n",
    "    scores, _ = scores_and_unif(scores)\n",
    "    if not kde:\n",
    "        kde = HistKDE(scores, bins=hist_bins)\n",
    "    return kde.cdf(scores, interpolate=interpolate)\n",
    "\n",
    "def accept_cdf(scores, distclass=lognorm, postfunc=lambda x: x, **cdf_params):\n",
    "    scores, _ = scores_and_unif(scores)\n",
    "    return postfunc(distclass.cdf(scores, **cdf_params))\n"
   ]
  },
  {
   "cell_type": "markdown",
   "id": "82f22b0a",
   "metadata": {},
   "source": [
    "## Mixture sample and histogram\n",
    "\n",
    "We need to create a large enough sample that even with a low fraction of positives (e.g., 1-2%) we can still have a good sampling across the range of TF distances, and for simulated sequences, the TF positions along the sequences. This suggests that we need to have at least around 10,000 positives in the sample.\n",
    "\n",
    "If we want biased downsampling to not resample (and thus duplicate) the same positives (or, for that matter, negatives), and want to increase the fraction of positives by up to 10x (e.g., from 1% to 10%), we need to be able to downsample to 10% of the starting sample size, or even 1%.\n",
    "\n",
    "This suggests that we need to have at least around 1,000,000 samples in the starting pool."
   ]
  },
  {
   "cell_type": "code",
   "execution_count": 15,
   "id": "e8875d00",
   "metadata": {},
   "outputs": [
    {
     "data": {
      "text/plain": [
       "Text(0.5, 1.0, 'Histogram of sampled activation scores')"
      ]
     },
     "execution_count": 15,
     "metadata": {},
     "output_type": "execute_result"
    },
    {
     "data": {
      "image/png": "[encoded data removed]",
      "text/plain": [
       "<Figure size 640x480 with 1 Axes>"
      ]
     },
     "metadata": {},
     "output_type": "display_data"
    }
   ],
   "source": [
    "scores_sample = sample_scores(size=1_000_000, func='mound')\n",
    "nbins = int(np.max(scores_sample[:,0])-np.min(scores_sample[:,0])+1)\n",
    "hist = plt.hist(scores_sample[:,0], bins=nbins, density=True, alpha=0.5)\n",
    "plt.ylim(top=0.005)\n",
    "plt.xlabel(\"Activation score\")\n",
    "plt.ylabel(\"Density\")\n",
    "plt.title(\"Histogram of sampled activation scores\")"
   ]
  },
  {
   "cell_type": "markdown",
   "id": "e341b853",
   "metadata": {},
   "source": [
    "## Visaualization of different acceptance probability \n",
    "\n",
    "We visualize the acceptance probability functions for a very dense linear sampling of the range of scores. This is still two order of magnitude less data than the number of samples in the mixture sample."
   ]
  },
  {
   "cell_type": "code",
   "execution_count": 16,
   "id": "a79c040b",
   "metadata": {},
   "outputs": [],
   "source": [
    "scores = np.linspace(scores_sample[:,0].min(), scores_sample[:,0].max(), num=10000, endpoint=True)"
   ]
  },
  {
   "cell_type": "markdown",
   "id": "1bd87420",
   "metadata": {},
   "source": [
    "The linear sampling isn't suitable for creating a score distribution histogram on the fly, we need to create it in advance from the original mixture sample."
   ]
  },
  {
   "cell_type": "code",
   "execution_count": 17,
   "id": "14298420",
   "metadata": {},
   "outputs": [],
   "source": [
    "histkde = HistKDE(scores_sample[:,0], bins=200)"
   ]
  },
  {
   "cell_type": "markdown",
   "id": "1a889c55",
   "metadata": {},
   "source": [
    "Visualize a number of different acceptance probability functions:"
   ]
  },
  {
   "cell_type": "code",
   "execution_count": 18,
   "id": "0c7aaff3",
   "metadata": {},
   "outputs": [
    {
     "data": {
      "text/plain": [
       "<matplotlib.legend.Legend at 0x7f6819bd6ad0>"
      ]
     },
     "execution_count": 18,
     "metadata": {},
     "output_type": "execute_result"
    },
    {
     "data": {
      "image/png": "[encoded data removed]",
      "text/plain": [
       "<Figure size 640x480 with 1 Axes>"
      ]
     },
     "metadata": {},
     "output_type": "display_data"
    }
   ],
   "source": [
    "scores = np.linspace(scores_sample[:,0].min(), scores_sample[:,0].max(), num=10000, endpoint=True)\n",
    "plt.plot(scores, accept_hist_pdf(scores, kde=histkde, interpolate=False),\n",
    "         linewidth=0.9, label=\"BlueSTARR-like acceptance\")\n",
    "plt.plot(scores, accept_hist_cdf(scores, kde=histkde, interpolate=True),\n",
    "         linewidth=0.9, label=\"empirical CDF acceptance\")\n",
    "plt.plot(scores, accept_cdf(scores, s=1, scale=1),\n",
    "         linewidth=0.9, label=\"lognormal CDF acceptance\")\n",
    "plt.plot(scores, accept_cdf(scores, postfunc=np.square, s=1, scale=1),\n",
    "         linewidth=0.9, label=\"(lognormal CDF)$^{2}$ acceptance\")\n",
    "plt.plot(scores, accept_cdf(scores, postfunc=lambda x: np.power(x, 10), s=1, scale=1),\n",
    "         linewidth=0.9, label=\"(lognormal CDF)$^{10}$ acceptance\")\n",
    "# plt.xlim(left=scores_sample.min(), right=scores_sample.max())\n",
    "plt.xlim(left=-1, right=40)\n",
    "plt.xlabel(\"Activation score\")\n",
    "plt.ylabel(\"Acceptance probability\")\n",
    "plt.title(\"Acceptance probability of scores\")\n",
    "plt.legend(frameon=False)"
   ]
  },
  {
   "cell_type": "markdown",
   "id": "cddebbb3",
   "metadata": {},
   "source": [
    "## Performing biased downsampling and assessing the results\n",
    "\n",
    "Define a function that takes a sample and an acceptance probability function, performs the sampling according to the acceptance probabilities, and returns the resulting (sub)sample."
   ]
  },
  {
   "cell_type": "code",
   "execution_count": 19,
   "id": "71a70ed8",
   "metadata": {},
   "outputs": [],
   "source": [
    "def sample_scores_accept(scores, accept_probs, frac=0.05):\n",
    "    rng = np.random.default_rng()\n",
    "    accept_probs = accept_probs / accept_probs.sum()\n",
    "    return rng.choice(scores, size=int(len(scores) * frac), replace=False, p=accept_probs)"
   ]
  },
  {
   "cell_type": "markdown",
   "id": "9102eba9",
   "metadata": {},
   "source": [
    "Collect results from a number of different acceptance probability functions."
   ]
  },
  {
   "cell_type": "code",
   "execution_count": 20,
   "id": "df531c12",
   "metadata": {},
   "outputs": [],
   "source": [
    "def downsample(scores_sample, kde=histkde, frac=0.05):\n",
    "    method_labels = [ \"BlueSTARR\", \"ECDF\", \"lognormal CDF\", \"(lognormal CDF)$^{2}$\", \"(lognormal CDF)$^{5}$\", \"(lognormal CDF)$^{10}$\"] # \"BlueSTARR\",\n",
    "    scores_biased = (\n",
    "        sample_scores_accept(scores_sample, frac=frac,\n",
    "                             accept_probs=accept_hist_pdf(scores_sample, kde=kde, interpolate=False)),\n",
    "        sample_scores_accept(scores_sample, frac=frac,\n",
    "                             accept_probs=accept_hist_cdf(scores_sample, kde=kde, interpolate=True)),\n",
    "        sample_scores_accept(scores_sample, frac=frac,\n",
    "                             accept_probs=accept_cdf(scores_sample, s=1, scale=1)),\n",
    "        sample_scores_accept(scores_sample, frac=frac,\n",
    "                             accept_probs=accept_cdf(scores_sample, s=1, scale=1, postfunc=np.square)),\n",
    "        sample_scores_accept(scores_sample, frac=frac,\n",
    "                             accept_probs=accept_cdf(scores_sample, s=1, scale=1, postfunc=lambda x: np.power(x, 5))),\n",
    "        sample_scores_accept(scores_sample, frac=frac,\n",
    "                             accept_probs=accept_cdf(scores_sample, s=1, scale=1, postfunc=lambda x: np.power(x, 10))),\n",
    "    )\n",
    "    return scores_biased, method_labels"
   ]
  },
  {
   "cell_type": "code",
   "execution_count": null,
   "id": "5fde9989-bf6a-4273-af12-894f05d9c6bc",
   "metadata": {},
   "outputs": [],
   "source": [
    "# def downsample(scores_sample, kde=histkde, frac=0.1):\n",
    "#     method_labels = [\"BlueSTARR\", \"lognormal CDF\", \"(lognormal CDF)$^{2}$\", \"(lognormal CDF)$^{10}$\"]\n",
    "#     scores_biased = (\n",
    "#         sample_scores_accept(scores_sample, frac=frac,\n",
    "#                              accept_probs=accept_hist_pdf(scores_sample, kde=kde, interpolate=False)),\n",
    "#         sample_scores_accept(scores_sample, frac=frac,\n",
    "#                              accept_probs=accept_cdf(scores_sample, s=1, scale=1)),\n",
    "#         sample_scores_accept(scores_sample, frac=frac,\n",
    "#                              accept_probs=accept_cdf(scores_sample, s=1, scale=1, postfunc=np.square)),\n",
    "#         sample_scores_accept(scores_sample, frac=frac,\n",
    "#                              accept_probs=accept_cdf(scores_sample, s=1, scale=1, postfunc=lambda x: np.power(x, 10))),\n",
    "#     )\n",
    "#     return scores_biased, method_labels"
   ]
  },
  {
   "cell_type": "markdown",
   "id": "873ee071",
   "metadata": {},
   "source": [
    "### Histograms of the collected samples\n",
    "\n",
    "Grouped barcharts for each histogram bin:"
   ]
  },
  {
   "cell_type": "code",
   "execution_count": null,
   "id": "b85a216d",
   "metadata": {},
   "outputs": [],
   "source": [
    "fig, ax = plt.subplots()\n",
    "fig.set_figwidth(10)\n",
    "\n",
    "scores_biased, method_labels = downsample(scores_sample, frac=0.1)\n",
    "\n",
    "hist = ax.hist([x[:,0] for x in (scores_sample,) + scores_biased], bins=25, density=True, alpha=0.5,\n",
    "               label=[\"Unbiased\"] + method_labels)\n",
    "ax.set_ylim(top=0.005)\n",
    "ax.set_xlabel(\"Activation score\")\n",
    "ax.set_ylabel(\"Density\")\n",
    "ax.set_title(f\"Histogram of (down)sampled activation scores\")\n",
    "ax.legend()\n"
   ]
  },
  {
   "cell_type": "markdown",
   "id": "a3f8aa3a",
   "metadata": {},
   "source": [
    "### Assessing the fraction of positives in the biased samples"
   ]
  },
  {
   "cell_type": "code",
   "execution_count": null,
   "id": "afb1022b",
   "metadata": {},
   "outputs": [],
   "source": [
    "print(f'V-shape activation function with scaling for Blue-STARR activation function')\n",
    "fracs = [0.8]\n",
    "scores_sample = sample_scores(size=1_000_000, func='v-shape')\n",
    "histkde=HistKDE(scores_sample[:,0], bins=200)\n",
    "print('# negative samples',len(scores_sample[scores_sample[:,0]<0,]))\n",
    "posfrac = (~np.isnan(scores_sample[:,1])).sum() / len(scores_sample)\n",
    "print(f\"Unbiased sample: {posfrac:.2%} positives\")\n",
    "for frac in fracs:\n",
    "    scores_biased, method_labels = downsample(scores_sample, frac=frac)\n",
    "    print(f\"Biased downsampling to {frac:.1%}:\")\n",
    "    for sample, method_label in zip(scores_biased, method_labels):\n",
    "        posfrac = (~np.isnan(sample[:,1])).sum() / len(sample)\n",
    "        print(f\"  {method_label}: {posfrac:.2%} positives\")\n",
    "        print('  # negative samples after biased downsampling',len(sample[sample[:,0]<0,]))"
   ]
  },
  {
   "cell_type": "code",
   "execution_count": null,
   "id": "861f2cb5-bc37-491b-a3e2-28ced166cef7",
   "metadata": {},
   "outputs": [],
   "source": [
    "print(f'exp-fit-1 with scaling for Blue-STARR activation function')\n",
    "fracs = [0.27]\n",
    "scores_sample = sample_scores(size=1_000_000, func='exp-fit-1')\n",
    "histkde=HistKDE(scores_sample[:,0], bins=100)\n",
    "print('# negative samples',len(scores_sample[scores_sample[:,0]<0,]))\n",
    "posfrac = (~np.isnan(scores_sample[:,1])).sum() / len(scores_sample)\n",
    "print(f\"Unbiased sample: {posfrac:.2%} positives\")\n",
    "for frac in fracs:\n",
    "    scores_biased, method_labels = downsample(scores_sample, frac=frac)\n",
    "    print(f\"Biased downsampling to {frac:.1%}:\")\n",
    "    for sample, method_label in zip(scores_biased, method_labels):\n",
    "        posfrac = (~np.isnan(sample[:,1])).sum() / len(sample)\n",
    "        print(f\"  {method_label}: {posfrac:.2%} positives\")\n",
    "        print('  # negative samples after biased downsampling',len(sample[sample[:,0]<0,]))"
   ]
  },
  {
   "cell_type": "code",
   "execution_count": null,
   "id": "d9b0a788-d74c-4ca4-b65e-70df2861531f",
   "metadata": {},
   "outputs": [],
   "source": [
    "print(f'mound shape signal')\n",
    "scores_sample = sample_scores(size=1_000_000, func='mound')\n",
    "fracs = [0.27]\n",
    "posfrac = (~np.isnan(scores_sample[:,1])).sum() / len(scores_sample)\n",
    "print(f\"Unbiased sample: {posfrac:.2%} positives\")\n",
    "for frac in fracs:\n",
    "    scores_biased, method_labels = downsample(scores_sample, frac=frac)\n",
    "    print(f\"Biased downsampling to {frac:.1%}:\")\n",
    "    for sample, method_label in zip(scores_biased, method_labels):\n",
    "        posfrac = (~np.isnan(sample[:,1])).sum() / len(sample)\n",
    "        print(f\"  {method_label}: {posfrac:.2%} positives\")"
   ]
  },
  {
   "cell_type": "code",
   "execution_count": null,
   "id": "1a249d6d-09d9-4eeb-b2da-7e4a41c03475",
   "metadata": {},
   "outputs": [],
   "source": [
    "print(f'bowl shape signal')\n",
    "scores_sample = sample_scores(size=1_000_000, func='bowl')\n",
    "fracs = [0.27]\n",
    "posfrac = (~np.isnan(scores_sample[:,1])).sum() / len(scores_sample)\n",
    "print(f\"Unbiased sample: {posfrac:.2%} positives\")\n",
    "for frac in fracs:\n",
    "    scores_biased, method_labels = downsample(scores_sample, frac=frac)\n",
    "    print(f\"Biased downsampling to {frac:.1%}:\")\n",
    "    for sample, method_label in zip(scores_biased, method_labels):\n",
    "        posfrac = (~np.isnan(sample[:,1])).sum() / len(sample)\n",
    "        print(f\"  {method_label}: {posfrac:.2%} positives\")"
   ]
  },
  {
   "cell_type": "code",
   "execution_count": null,
   "id": "5707a62b-4ba7-436f-8d3d-11d3ec123ae0",
   "metadata": {},
   "outputs": [],
   "source": [
    "print(f'cliff shape signal')\n",
    "scores_sample = sample_scores(size=1_000_000, func='cliff')\n",
    "fracs = [0.27]\n",
    "posfrac = (~np.isnan(scores_sample[:,1])).sum() / len(scores_sample)\n",
    "print(f\"Unbiased sample: {posfrac:.2%} positives\")\n",
    "for frac in fracs:\n",
    "    scores_biased, method_labels = downsample(scores_sample, frac=frac)\n",
    "    print(f\"Biased downsampling to {frac:.1%}:\")\n",
    "    for sample, method_label in zip(scores_biased, method_labels):\n",
    "        posfrac = (~np.isnan(sample[:,1])).sum() / len(sample)\n",
    "        print(f\"  {method_label}: {posfrac:.2%} positives\")"
   ]
  },
  {
   "cell_type": "code",
   "execution_count": null,
   "id": "56298768-b16d-4fcf-9938-0b166b6f3dbc",
   "metadata": {},
   "outputs": [],
   "source": [
    "print(f'periodicity shape signal')\n",
    "scores_sample = sample_scores(size=1_000_000, func='periodicity')\n",
    "fracs = [0.27]\n",
    "posfrac = (~np.isnan(scores_sample[:,1])).sum() / len(scores_sample)\n",
    "print(f\"Unbiased sample: {posfrac:.2%} positives\")\n",
    "for frac in fracs:\n",
    "    scores_biased, method_labels = downsample(scores_sample, frac=frac)\n",
    "    print(f\"Biased downsampling to {frac:.1%}:\")\n",
    "    for sample, method_label in zip(scores_biased, method_labels):\n",
    "        posfrac = (~np.isnan(sample[:,1])).sum() / len(sample)\n",
    "        print(f\"  {method_label}: {posfrac:.2%} positives\")"
   ]
  },
  {
   "cell_type": "code",
   "execution_count": 21,
   "id": "760ca9ed-13e7-4777-8398-d2dfff14ef75",
   "metadata": {},
   "outputs": [
    {
     "name": "stdout",
     "output_type": "stream",
     "text": [
      "hill shape signal\n",
      "Unbiased sample: 0.50% positives\n",
      "Biased downsampling to 27.0%:\n",
      "  BlueSTARR: 0.65% positives\n",
      "  ECDF: 0.74% positives\n",
      "  lognormal CDF: 0.87% positives\n",
      "  (lognormal CDF)$^{2}$: 1.20% positives\n",
      "  (lognormal CDF)$^{5}$: 1.74% positives\n",
      "  (lognormal CDF)$^{10}$: 1.85% positives\n"
     ]
    }
   ],
   "source": [
    "print(f'hill shape signal')\n",
    "scores_sample = sample_scores(size=1_000_000, func='hill')\n",
    "fracs = [0.27]\n",
    "posfrac = (~np.isnan(scores_sample[:,1])).sum() / len(scores_sample)\n",
    "print(f\"Unbiased sample: {posfrac:.2%} positives\")\n",
    "for frac in fracs:\n",
    "    scores_biased, method_labels = downsample(scores_sample, frac=frac)\n",
    "    print(f\"Biased downsampling to {frac:.1%}:\")\n",
    "    for sample, method_label in zip(scores_biased, method_labels):\n",
    "        posfrac = (~np.isnan(sample[:,1])).sum() / len(sample)\n",
    "        print(f\"  {method_label}: {posfrac:.2%} positives\")"
   ]
  },
  {
   "cell_type": "code",
   "execution_count": null,
   "id": "dc9b6237-53e8-44b1-9694-b226eb50eba2",
   "metadata": {},
   "outputs": [],
   "source": [
    "scores = np.linspace(scores_sample[:,0].min(), scores_sample[:,0].max(), num=10000, endpoint=True)\n",
    "plt.plot(scores, accept_hist_pdf(scores, kde=histkde, interpolate=False),\n",
    "         linewidth=0.9, label=\"BlueSTARR-like acceptance\")\n",
    "plt.plot(scores, accept_hist_cdf(scores, kde=histkde, interpolate=True),\n",
    "         linewidth=0.9, label=\"empirical CDF acceptance\")\n",
    "plt.plot(scores, accept_cdf(scores, s=1, scale=1),\n",
    "         linewidth=0.9, label=\"lognormal CDF acceptance\")\n",
    "plt.plot(scores, accept_cdf(scores, postfunc=np.square, s=1, scale=1),\n",
    "         linewidth=0.9, label=\"(lognormal CDF)$^{2}$ acceptance\")\n",
    "plt.plot(scores, accept_cdf(scores, postfunc=lambda x: np.power(x, 50), s=1, scale=1),\n",
    "         linewidth=0.9, label=\"(lognormal CDF)$^{10}$ acceptance\")\n",
    "# plt.xlim(left=scores_sample.min(), right=scores_sample.max())\n",
    "plt.xlim(left=-1, right=40)\n",
    "plt.xlabel(\"Activation score\")\n",
    "plt.ylabel(\"Acceptance probability\")\n",
    "plt.title(\"Acceptance probability of scores - periodicity shape\")\n",
    "plt.legend(frameon=False)"
   ]
  },
  {
   "cell_type": "markdown",
   "id": "67659320",
   "metadata": {},
   "source": [
    "## Appendix: Comparison of different histogram-based empirical PDF and CDF implementations"
   ]
  },
  {
   "cell_type": "code",
   "execution_count": null,
   "id": "d0548b66",
   "metadata": {},
   "outputs": [],
   "source": [
    "histkde = HistKDE(scores_sample[:,0], bins=200)\n",
    "gauss_kde = gaussian_kde(histkde.mids, bw_method=0.05, weights=histkde.probs)"
   ]
  },
  {
   "cell_type": "code",
   "execution_count": null,
   "id": "a07f9c48",
   "metadata": {},
   "outputs": [],
   "source": [
    "scores = np.linspace(0, scores_sample[:,0].max()+1, 10000)\n",
    "plt.plot(scores, 1-gauss_kde.pdf(scores), label=\"1 - Gaussian KDE PDF\")\n",
    "plt.plot(scores, histkde.cdf(scores), label=\"Histogram CDF (interpolated)\")\n",
    "plt.plot(scores, histkde.cdf(scores, interpolate=False), label=\"Histogram CDF\")\n",
    "plt.plot(histkde.mids, histkde.cum_probs, label=\"Histogram cumulative\")\n",
    "plt.xlim(left=-1, right=30)\n",
    "plt.xlabel(\"Activation score\")\n",
    "plt.ylabel(\"Density\")\n",
    "plt.title(\"Gaussian vs. Histogram KDE (both from 200 bins)\")\n",
    "plt.legend()\n"
   ]
  },
  {
   "cell_type": "code",
   "execution_count": null,
   "id": "8829d5d6",
   "metadata": {},
   "outputs": [],
   "source": []
  }
 ],
 "metadata": {
  "kernelspec": {
   "display_name": "Python 3 (ipykernel)",
   "language": "python",
   "name": "python3"
  },
  "language_info": {
   "codemirror_mode": {
    "name": "ipython",
    "version": 3
   },
   "file_extension": ".py",
   "mimetype": "text/x-python",
   "name": "python",
   "nbconvert_exporter": "python",
   "pygments_lexer": "ipython3",
   "version": "3.11.10"
  }
 },
 "nbformat": 4,
 "nbformat_minor": 5
}
